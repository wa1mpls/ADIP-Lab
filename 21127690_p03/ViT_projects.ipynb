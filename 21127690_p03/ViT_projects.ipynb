{
  "nbformat": 4,
  "nbformat_minor": 0,
  "metadata": {
    "colab": {
      "provenance": [],
      "gpuType": "T4"
    },
    "kernelspec": {
      "name": "python3",
      "display_name": "Python 3"
    },
    "language_info": {
      "name": "python"
    },
    "accelerator": "GPU"
  },
  "cells": [
    {
      "cell_type": "code",
      "execution_count": 26,
      "metadata": {
        "colab": {
          "base_uri": "https://localhost:8080/"
        },
        "id": "MPgHV56DcWOm",
        "outputId": "6bb71931-bbc0-4603-ad69-2dbafba529fe"
      },
      "outputs": [
        {
          "output_type": "stream",
          "name": "stdout",
          "text": [
            "Mounted at /content/drive\n",
            "Tệp /content/drive/My Drive/ViT_Project/source.zip tồn tại.\n"
          ]
        }
      ],
      "source": [
        "from google.colab import drive\n",
        "import zipfile\n",
        "import os\n",
        "\n",
        "# Gắn kết Google Drive vào Colab\n",
        "drive.mount('/content/drive', force_remount=True)\n",
        "\n",
        "# Đường dẫn tới tệp .zip\n",
        "zip_path = '/content/drive/My Drive/ViT_Project/source.zip'\n",
        "\n",
        "# Kiểm tra xem tệp .zip có tồn tại hay không\n",
        "if os.path.exists(zip_path):\n",
        "    print(f\"Tệp {zip_path} tồn tại.\")\n",
        "else:\n",
        "    raise FileNotFoundError(f\"Tệp {zip_path} không tồn tại. Kiểm tra lại đường dẫn.\")\n",
        "\n",
        "# Đường dẫn giải nén\n",
        "extract_path = '/content/drive/My Drive/ViT_Project/source_unzip/source'\n",
        "\n",
        "# Tạo thư mục nếu chưa tồn tại\n",
        "os.makedirs(extract_path, exist_ok=True)\n",
        "\n",
        "# Giải nén tệp zip\n",
        "with zipfile.ZipFile(zip_path, 'r') as zip_ref:\n",
        "    zip_ref.extractall(extract_path)\n",
        "    print(f\"Đã giải nén tệp tới: {extract_path}\")\n"
      ]
    },
    {
      "cell_type": "code",
      "source": [
        "import os\n",
        "\n",
        "# Đường dẫn tới thư mục chứa tệp 'requirements.txt'\n",
        "extract_path = '/content/drive/My Drive/ViT_Project/source_unzip/source'\n",
        "\n",
        "\n"
      ],
      "metadata": {
        "id": "Ac0yLTSTtHu6"
      },
      "execution_count": 27,
      "outputs": []
    },
    {
      "cell_type": "code",
      "source": [
        "import torch\n",
        "\n",
        "# Kiểm tra GPU\n",
        "print(\"CUDA có khả dụng:\", torch.cuda.is_available())\n",
        "if torch.cuda.is_available():\n",
        "    print(\"Tên GPU:\", torch.cuda.get_device_name(0))\n",
        "else:\n",
        "    print(\"Không có GPU.\")\n"
      ],
      "metadata": {
        "colab": {
          "base_uri": "https://localhost:8080/"
        },
        "id": "OH5Frr03tLWB",
        "outputId": "cac1c819-55aa-48aa-ca52-5cfa37ba08bf"
      },
      "execution_count": 28,
      "outputs": [
        {
          "output_type": "stream",
          "name": "stdout",
          "text": [
            "CUDA có khả dụng: True\n",
            "Tên GPU: Tesla T4\n"
          ]
        }
      ]
    },
    {
      "cell_type": "code",
      "source": [
        "import os\n",
        "\n",
        "# Đường dẫn tới thư mục chứa tệp main.py\n",
        "main_py_path = os.path.join(extract_path, 'main.py')\n",
        "\n",
        "# Kiểm tra sự tồn tại của tệp main.py\n",
        "if os.path.exists(main_py_path):\n",
        "    print(f\"Tệp main.py tồn tại tại: {main_py_path}\")\n",
        "    !python3 \"{main_py_path}\"  # Đặt đường dẫn trong dấu ngoặc kép để xử lý dấu cách\n",
        "else:\n",
        "    print(\"Không thể chạy main.py vì file không tồn tại.\")\n"
      ],
      "metadata": {
        "colab": {
          "base_uri": "https://localhost:8080/"
        },
        "id": "ODgT00JktO7l",
        "outputId": "fb1c7010-e668-478c-b43a-0ed45e74591f"
      },
      "execution_count": 29,
      "outputs": [
        {
          "output_type": "stream",
          "name": "stdout",
          "text": [
            "Tệp main.py tồn tại tại: /content/drive/My Drive/ViT_Project/source_unzip/source/main.py\n",
            "Running unit tests...\n",
            "test_attention_output_shape (tests.test_attetion.TestAttention.test_attention_output_shape) ... ok\n",
            "test_classification_head_output_shape (tests.test_classification_head.TestClassificationHead.test_classification_head_output_shape) ... ok\n",
            "test_transformer_output_shape (tests.test_transformer.TestTransformer.test_transformer_output_shape) ... ok\n",
            "test_transformer_block_output_shape (tests.test_transformer_block.TestTransformerBlock.test_transformer_block_output_shape) ... ok\n",
            "test_vision_transformer_output_shape (tests.test_vision_transformer.TestVisionTransformer.test_vision_transformer_output_shape) ... ok\n",
            "\n",
            "----------------------------------------------------------------------\n",
            "Ran 5 tests in 0.033s\n",
            "\n",
            "OK\n",
            "All unit tests passed successfully!\n",
            "\n",
            "Running Experiment 1 with params: {'input_size': 32, 'patch_size': 4, 'max_len': 100, 'heads': 8, 'classes': 10, 'layers': 6, 'embed_dim': 256, 'mlp_dim': 512, 'dropout': 0.1, 'num_epochs': 20}\n",
            "Epoch [1/20], Loss: 2.1694\n",
            "Epoch [2/20], Loss: 2.1031\n",
            "Epoch [3/20], Loss: 2.1747\n",
            "Epoch [4/20], Loss: 2.3028\n",
            "Epoch [5/20], Loss: 2.3027\n",
            "Epoch [6/20], Loss: 2.3027\n",
            "Epoch [7/20], Loss: 2.3027\n",
            "Epoch [8/20], Loss: 2.3027\n",
            "Epoch [9/20], Loss: 2.3027\n",
            "Epoch [10/20], Loss: 2.3028\n",
            "Epoch [11/20], Loss: 2.3027\n",
            "Epoch [12/20], Loss: 2.3027\n",
            "Epoch [13/20], Loss: 2.3027\n",
            "Epoch [14/20], Loss: 2.3027\n",
            "Epoch [15/20], Loss: 2.3027\n",
            "Epoch [16/20], Loss: 2.3027\n",
            "Epoch [17/20], Loss: 2.3027\n",
            "Epoch [18/20], Loss: 2.3027\n",
            "Epoch [19/20], Loss: 2.3027\n",
            "Epoch [20/20], Loss: 2.3027\n",
            "Top-1 Accuracy: 10.00%\n",
            "Results saved to: logs/experiment_20250411_135730.csv and logs/experiment_20250411_135730.json\n",
            "Running Experiment 2 with params: {'input_size': 32, 'patch_size': 8, 'max_len': 100, 'heads': 16, 'classes': 10, 'layers': 12, 'embed_dim': 128, 'mlp_dim': 256, 'dropout': 0.1, 'num_epochs': 20}\n",
            "Epoch [1/20], Loss: 2.2793\n",
            "Epoch [2/20], Loss: 2.3037\n",
            "Epoch [3/20], Loss: 2.3034\n",
            "Epoch [4/20], Loss: 2.3030\n",
            "Epoch [5/20], Loss: 2.3030\n",
            "Epoch [6/20], Loss: 2.3028\n",
            "Epoch [7/20], Loss: 2.3028\n",
            "Epoch [8/20], Loss: 2.3027\n",
            "Epoch [9/20], Loss: 2.3027\n",
            "Epoch [10/20], Loss: 2.3027\n",
            "Epoch [11/20], Loss: 2.3027\n",
            "Epoch [12/20], Loss: 2.3027\n",
            "Epoch [13/20], Loss: 2.3028\n",
            "Epoch [14/20], Loss: 2.3027\n",
            "Epoch [15/20], Loss: 2.3027\n",
            "Epoch [16/20], Loss: 2.3027\n",
            "Epoch [17/20], Loss: 2.3027\n",
            "Epoch [18/20], Loss: 2.3027\n",
            "Epoch [19/20], Loss: 2.3027\n",
            "Epoch [20/20], Loss: 2.3027\n",
            "Top-1 Accuracy: 10.00%\n",
            "Results saved to: logs/experiment_20250411_141142.csv and logs/experiment_20250411_141142.json\n",
            "\n",
            "All experiments completed. Visualizations saved in 'logs/' directory.\n"
          ]
        }
      ]
    },
    {
      "cell_type": "code",
      "source": [
        "import os\n",
        "import shutil\n",
        "\n",
        "# Đường dẫn tới thư mục logs\n",
        "logs_path = '/content/logs'\n",
        "\n",
        "# Kiểm tra thư mục logs có tồn tại không\n",
        "if os.path.exists(logs_path):\n",
        "    print(\"Thư mục logs tồn tại.\")\n",
        "    print(\"Nén thư mục logs...\")\n",
        "\n",
        "    # Đặt đường dẫn zip chính xác\n",
        "    zip_path = '/content/logs.zip'\n",
        "\n",
        "    # Nén thư mục logs thành file zip\n",
        "    shutil.make_archive(zip_path.replace('.zip', ''), 'zip', logs_path)  # Nén thư mục logs thành file zip\n",
        "    print(f\"Thư mục logs đã được nén vào {zip_path}\")\n",
        "else:\n",
        "    print(\"Thư mục logs không tồn tại.\")\n"
      ],
      "metadata": {
        "colab": {
          "base_uri": "https://localhost:8080/"
        },
        "id": "ImCwSOfptSjs",
        "outputId": "7e69bf7f-a47f-464e-e372-b7ff59b6ba4f"
      },
      "execution_count": 30,
      "outputs": [
        {
          "output_type": "stream",
          "name": "stdout",
          "text": [
            "Thư mục logs tồn tại.\n",
            "Nén thư mục logs...\n",
            "Thư mục logs đã được nén vào /content/logs.zip\n"
          ]
        }
      ]
    },
    {
      "cell_type": "code",
      "source": [
        "from google.colab import files\n",
        "import os\n",
        "\n",
        "# Kiểm tra nếu file logs.zip đã tồn tại\n",
        "zip_file_path = '/content/logs.zip'\n",
        "\n",
        "if os.path.exists(zip_file_path):\n",
        "    print(f\"Tải tệp {zip_file_path} về máy...\")\n",
        "    files.download(zip_file_path)  # Tải tệp zip về máy\n",
        "else:\n",
        "    print(\"Không tìm thấy file logs.zip để tải về.\")\n"
      ],
      "metadata": {
        "colab": {
          "base_uri": "https://localhost:8080/",
          "height": 34
        },
        "id": "xge_Hm5htUhO",
        "outputId": "a6470daa-14be-4306-e305-e67f9142a9ec"
      },
      "execution_count": 31,
      "outputs": [
        {
          "output_type": "stream",
          "name": "stdout",
          "text": [
            "Tải tệp /content/logs.zip về máy...\n"
          ]
        },
        {
          "output_type": "display_data",
          "data": {
            "text/plain": [
              "<IPython.core.display.Javascript object>"
            ],
            "application/javascript": [
              "\n",
              "    async function download(id, filename, size) {\n",
              "      if (!google.colab.kernel.accessAllowed) {\n",
              "        return;\n",
              "      }\n",
              "      const div = document.createElement('div');\n",
              "      const label = document.createElement('label');\n",
              "      label.textContent = `Downloading \"${filename}\": `;\n",
              "      div.appendChild(label);\n",
              "      const progress = document.createElement('progress');\n",
              "      progress.max = size;\n",
              "      div.appendChild(progress);\n",
              "      document.body.appendChild(div);\n",
              "\n",
              "      const buffers = [];\n",
              "      let downloaded = 0;\n",
              "\n",
              "      const channel = await google.colab.kernel.comms.open(id);\n",
              "      // Send a message to notify the kernel that we're ready.\n",
              "      channel.send({})\n",
              "\n",
              "      for await (const message of channel.messages) {\n",
              "        // Send a message to notify the kernel that we're ready.\n",
              "        channel.send({})\n",
              "        if (message.buffers) {\n",
              "          for (const buffer of message.buffers) {\n",
              "            buffers.push(buffer);\n",
              "            downloaded += buffer.byteLength;\n",
              "            progress.value = downloaded;\n",
              "          }\n",
              "        }\n",
              "      }\n",
              "      const blob = new Blob(buffers, {type: 'application/binary'});\n",
              "      const a = document.createElement('a');\n",
              "      a.href = window.URL.createObjectURL(blob);\n",
              "      a.download = filename;\n",
              "      div.appendChild(a);\n",
              "      a.click();\n",
              "      div.remove();\n",
              "    }\n",
              "  "
            ]
          },
          "metadata": {}
        },
        {
          "output_type": "display_data",
          "data": {
            "text/plain": [
              "<IPython.core.display.Javascript object>"
            ],
            "application/javascript": [
              "download(\"download_9bb604ca-889c-4920-9d95-00dee2dcd941\", \"logs.zip\", 69840)"
            ]
          },
          "metadata": {}
        }
      ]
    }
  ]
}