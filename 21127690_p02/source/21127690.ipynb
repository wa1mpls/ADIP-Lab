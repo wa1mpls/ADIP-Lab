{
  "nbformat": 4,
  "nbformat_minor": 0,
  "metadata": {
    "colab": {
      "provenance": [],
      "gpuType": "T4"
    },
    "kernelspec": {
      "name": "python3",
      "display_name": "Python 3"
    },
    "language_info": {
      "name": "python"
    },
    "accelerator": "GPU"
  },
  "cells": [
    {
      "cell_type": "markdown",
      "source": [
        "# 1. Cài đặt thư viện cần thiết"
      ],
      "metadata": {
        "id": "pESV86bi6sDo"
      }
    },
    {
      "cell_type": "code",
      "execution_count": 39,
      "metadata": {
        "id": "PSDgV1io6e3e"
      },
      "outputs": [],
      "source": [
        "import torch\n",
        "import torch.nn as nn\n",
        "import torch.optim as optim\n",
        "import torchvision\n",
        "import torchvision.transforms as transforms\n",
        "from torchvision.utils import make_grid\n",
        "import matplotlib.pyplot as plt\n",
        "\n",
        "import numpy as np"
      ]
    },
    {
      "cell_type": "markdown",
      "source": [],
      "metadata": {
        "id": "AdyCeDA56rB3"
      }
    },
    {
      "cell_type": "markdown",
      "source": [
        "# 2. Kiểm tra GPU\n"
      ],
      "metadata": {
        "id": "JtPPXPVd6zPg"
      }
    },
    {
      "cell_type": "code",
      "source": [
        "device = torch.device(\"cuda\" if torch.cuda.is_available() else \"cpu\")\n",
        "print(\"Device:\", device)"
      ],
      "metadata": {
        "colab": {
          "base_uri": "https://localhost:8080/"
        },
        "id": "aenR4oy264iy",
        "outputId": "bf770028-0614-4456-dc85-7bcc9ebeccda"
      },
      "execution_count": 40,
      "outputs": [
        {
          "output_type": "stream",
          "name": "stdout",
          "text": [
            "Device: cuda\n"
          ]
        }
      ]
    },
    {
      "cell_type": "markdown",
      "source": [
        "#3. Cài đặt drive lưu kết quả và tải dataset\n",
        "\n"
      ],
      "metadata": {
        "id": "WvuG6ZiuC_b2"
      }
    },
    {
      "cell_type": "code",
      "source": [
        "from google.colab import drive\n",
        "drive.mount('/content/drive')"
      ],
      "metadata": {
        "colab": {
          "base_uri": "https://localhost:8080/"
        },
        "id": "-ZsWw4WXDBGP",
        "outputId": "332705ed-1a13-457e-b163-ab66ad27b4d9"
      },
      "execution_count": 41,
      "outputs": [
        {
          "output_type": "stream",
          "name": "stdout",
          "text": [
            "Drive already mounted at /content/drive; to attempt to forcibly remount, call drive.mount(\"/content/drive\", force_remount=True).\n"
          ]
        }
      ]
    },
    {
      "cell_type": "code",
      "source": [
        "WORKING_DIR = '/content/drive/MyDrive/lab2-adip'"
      ],
      "metadata": {
        "id": "raKonH9MMm_r"
      },
      "execution_count": 42,
      "outputs": []
    },
    {
      "cell_type": "code",
      "source": [
        "import os\n",
        "\n",
        "if not os.path.exists(WORKING_DIR):\n",
        "    os.makedirs(WORKING_DIR)\n",
        "\n",
        "%cd $WORKING_DIR"
      ],
      "metadata": {
        "colab": {
          "base_uri": "https://localhost:8080/"
        },
        "id": "TH0jSwklMmtf",
        "outputId": "c12a6abc-3dbf-402a-a97b-05055ab93945"
      },
      "execution_count": 43,
      "outputs": [
        {
          "output_type": "stream",
          "name": "stdout",
          "text": [
            "/content/drive/MyDrive/lab2-adip\n"
          ]
        }
      ]
    },
    {
      "cell_type": "markdown",
      "source": [
        "## 4. Tải và lưu dataset MNIST\n",
        "\n"
      ],
      "metadata": {
        "id": "xYl-W0tD7CId"
      }
    },
    {
      "cell_type": "code",
      "source": [
        "# Đường dẫn lưu dataset trên Google Drive\n",
        "location_path = '/content/drive/MyDrive/' + 'lab2-adip/dataset'\n",
        "\n",
        "# Định nghĩa transform trước khi truyền vào dataset\n",
        "transform = transforms.Compose([\n",
        "    transforms.ToTensor(),\n",
        "    transforms.Normalize((0.5,), (0.5,))\n",
        "])\n",
        "\n",
        "# Batch size mới\n",
        "batch_size = 128\n",
        "\n",
        "# Tải dataset MNIST\n",
        "dataset = torchvision.datasets.MNIST(root=location_path, train=True, download=True, transform=transform)\n",
        "\n",
        "# Tạo DataLoader\n",
        "dataloader = torch.utils.data.DataLoader(dataset, batch_size=batch_size, shuffle=True)"
      ],
      "metadata": {
        "id": "jM9L4G7i68E8"
      },
      "execution_count": 44,
      "outputs": []
    },
    {
      "cell_type": "markdown",
      "source": [
        "# 5. Định nghĩa mô hình Discriminator\n"
      ],
      "metadata": {
        "id": "jTWBHirF7flH"
      }
    },
    {
      "cell_type": "markdown",
      "source": [
        "#Tự code"
      ],
      "metadata": {
        "id": "VrxOEXWrjdPa"
      }
    },
    {
      "cell_type": "code",
      "source": [
        "class Discriminator(nn.Module):\n",
        "    def __init__(self, inp_dim=784):\n",
        "        super(Discriminator, self).__init__()\n",
        "        self.w1 = nn.Parameter(torch.randn(inp_dim, 128) * 0.02)  # Dùng nn.Parameter\n",
        "        self.b1 = nn.Parameter(torch.zeros(128))\n",
        "        self.w2 = nn.Parameter(torch.randn(128, 1) * 0.02)\n",
        "        self.b2 = nn.Parameter(torch.zeros(1))\n",
        "\n",
        "    def forward(self, x):\n",
        "        x = x.view(x.size(0), 784)\n",
        "        h = torch.matmul(x, self.w1) + self.b1\n",
        "        h = torch.maximum(0.2 * h, h)  # LeakyReLU\n",
        "        out = torch.matmul(h, self.w2) + self.b2\n",
        "        out = torch.sigmoid(out)  # Sigmoid\n",
        "        return out\n"
      ],
      "metadata": {
        "id": "rkgth4FBglsd"
      },
      "execution_count": 45,
      "outputs": []
    },
    {
      "cell_type": "markdown",
      "source": [
        "#Tham khảo lab"
      ],
      "metadata": {
        "id": "KBN69KB8jkos"
      }
    },
    {
      "cell_type": "code",
      "source": [
        "class Discriminator(nn.Module):\n",
        "    def __init__(self, inp_dim=784):\n",
        "        super(Discriminator, self).__init__()\n",
        "        self.fc1 = nn.Linear(inp_dim, 128)\n",
        "        self.nonlin1 = nn.LeakyReLU(0.2)\n",
        "        self.fc2 = nn.Linear(128, 1)\n",
        "\n",
        "    def forward(self, x):\n",
        "        x = x.view(x.size(0), 784)  # Flatten (batch_size x 1 x 28 x 28) -> (batch_size x 784)\n",
        "        h = self.nonlin1(self.fc1(x))\n",
        "        out = self.fc2(h)\n",
        "        out = torch.sigmoid(out)\n",
        "        return out\n"
      ],
      "metadata": {
        "id": "OhFTWKHo7N9Q"
      },
      "execution_count": 57,
      "outputs": []
    },
    {
      "cell_type": "markdown",
      "source": [
        "# 6. Định nghĩa mô hình Generator\n"
      ],
      "metadata": {
        "id": "xtn2ChdB7i97"
      }
    },
    {
      "cell_type": "markdown",
      "source": [
        "#Tự code"
      ],
      "metadata": {
        "id": "_rri6f5cjoSf"
      }
    },
    {
      "cell_type": "code",
      "source": [
        "class Generator(nn.Module):\n",
        "    def __init__(self, z_dim=100):\n",
        "        super(Generator, self).__init__()\n",
        "        self.w1 = nn.Parameter(torch.randn(z_dim, 128) * 0.02)\n",
        "        self.b1 = nn.Parameter(torch.zeros(128))\n",
        "        self.w2 = nn.Parameter(torch.randn(128, 784) * 0.02)\n",
        "        self.b2 = nn.Parameter(torch.zeros(784))\n",
        "\n",
        "    def forward(self, x):\n",
        "        h = torch.matmul(x, self.w1) + self.b1\n",
        "        h = torch.maximum(0.2 * h, h)  # LeakyReLU\n",
        "        out = torch.matmul(h, self.w2) + self.b2\n",
        "        out = torch.tanh(out)  # [-1, 1]\n",
        "        out = out.view(out.size(0), 1, 28, 28)\n",
        "        return out\n"
      ],
      "metadata": {
        "id": "nHcnRaz6ggwn"
      },
      "execution_count": 46,
      "outputs": []
    },
    {
      "cell_type": "markdown",
      "source": [
        "#Tham khảo lab"
      ],
      "metadata": {
        "id": "4jQ_UsORjp3Q"
      }
    },
    {
      "cell_type": "code",
      "source": [
        "class Generator(nn.Module):\n",
        "    def __init__(self, z_dim=100):\n",
        "        super(Generator, self).__init__()\n",
        "        self.fc1 = nn.Linear(z_dim, 128)\n",
        "        self.nonlin1 = nn.LeakyReLU(0.2)\n",
        "        self.fc2 = nn.Linear(128, 784)\n",
        "\n",
        "    def forward(self, x):\n",
        "        h = self.nonlin1(self.fc1(x))\n",
        "        out = self.fc2(h)\n",
        "        out = torch.tanh(out)  # Đưa giá trị về khoảng [-1, 1]\n",
        "        out = out.view(out.size(0), 1, 28, 28)  # Chuyển về kích thước ảnh\n",
        "        return out"
      ],
      "metadata": {
        "id": "882zDAxz7PyG"
      },
      "execution_count": 58,
      "outputs": []
    },
    {
      "cell_type": "markdown",
      "source": [
        "# 7. Khởi tạo mô hình\n"
      ],
      "metadata": {
        "id": "2EGwJDva8EvM"
      }
    },
    {
      "cell_type": "code",
      "source": [
        "\n",
        "\n",
        "# Re-initialize D, G (Assuming Discriminator and Generator classes are defined)\n",
        "D = Discriminator().to(device)\n",
        "G = Generator().to(device)\n",
        "\n"
      ],
      "metadata": {
        "id": "ITHwDgou7S3t"
      },
      "execution_count": 59,
      "outputs": []
    },
    {
      "cell_type": "markdown",
      "source": [
        "# 8. Hàm mất mát và bộ tối ưu hóa\n"
      ],
      "metadata": {
        "id": "lkfV9j2j8IF7"
      }
    },
    {
      "cell_type": "code",
      "source": [
        "\n",
        "\n",
        "print(\"Discriminator parameters:\", sum(p.numel() for p in D.parameters() if p.requires_grad))\n",
        "print(\"Generator parameters:\", sum(p.numel() for p in G.parameters() if p.requires_grad))\n",
        "\n",
        "# Set up the optimizers for Discriminator and Generator\n",
        "# Adam is better than SGD for this task\n",
        "#optimizerD = torch.optim.SGD(D.parameters(), lr=0.03)\n",
        "#optimizerG = torch.optim.SGD(G.parameters(), lr=0.03)\n",
        "\n",
        "# Uncomment to use Adam optimizer instead\n",
        "optimizerD = torch.optim.Adam(D.parameters(), lr=0.0002)\n",
        "optimizerG = torch.optim.Adam(G.parameters(), lr=0.0002)\n",
        "\n",
        "# Define the loss function BCE (Binary Cross-Entropy)\n",
        "criterion = nn.BCELoss()\n",
        "batch_size = 128\n",
        "\n",
        "\n"
      ],
      "metadata": {
        "id": "MMo3UWId7V57",
        "colab": {
          "base_uri": "https://localhost:8080/"
        },
        "outputId": "ad887f57-56e0-4e34-db9b-752ff416309c"
      },
      "execution_count": 60,
      "outputs": [
        {
          "output_type": "stream",
          "name": "stdout",
          "text": [
            "Discriminator parameters: 100609\n",
            "Generator parameters: 114064\n"
          ]
        }
      ]
    },
    {
      "cell_type": "markdown",
      "source": [
        "# 9. Huấn luyện mô hình\n"
      ],
      "metadata": {
        "id": "YanIVlxH8PJd"
      }
    },
    {
      "cell_type": "markdown",
      "source": [
        "#Nhập giá trị noise vector"
      ],
      "metadata": {
        "id": "PNVQQqRJhiFp"
      }
    },
    {
      "cell_type": "code",
      "source": [
        "noise_dim = int(input(\"Nhập giá trị noise_dim: \"))\n",
        "print(f\"Noise dimension: {noise_dim}\")\n"
      ],
      "metadata": {
        "colab": {
          "base_uri": "https://localhost:8080/"
        },
        "id": "__jVpBJehfru",
        "outputId": "e3eb2f2f-3eb1-44db-9b9f-7c13f2408a62"
      },
      "execution_count": 61,
      "outputs": [
        {
          "output_type": "stream",
          "name": "stdout",
          "text": [
            "Nhập giá trị noise_dim: 100\n",
            "Noise dimension: 100\n"
          ]
        }
      ]
    },
    {
      "cell_type": "code",
      "source": [
        "import torch\n",
        "import matplotlib.pyplot as plt\n",
        "\n",
        "# Số epochs\n",
        "epochs = 50\n",
        "\n",
        "# Danh sách lưu loss\n",
        "lossD_list = []\n",
        "lossG_list = []\n",
        "\n",
        "for epoch in range(epochs):\n",
        "    lossD_epoch = 0\n",
        "    lossG_epoch = 0\n",
        "    num_batches = 0\n",
        "\n",
        "    for i, data in enumerate(dataloader):\n",
        "        x_real, _ = data\n",
        "        x_real = x_real.to(device)\n",
        "\n",
        "        # Labels cho dữ liệu thật và giả\n",
        "        lab_real = torch.ones((x_real.size(0), 1), device=device)\n",
        "        lab_fake = torch.zeros((x_real.size(0), 1), device=device)\n",
        "\n",
        "        # ---- Training Discriminator ----\n",
        "        optimizerD.zero_grad()\n",
        "        lossD_real = criterion(D(x_real), lab_real)\n",
        "\n",
        "        z = torch.randn(x_real.size(0), noise_dim, device=device)\n",
        "        x_gen = G(z).detach()\n",
        "        lossD_fake = criterion(D(x_gen), lab_fake)\n",
        "\n",
        "        lossD = lossD_real + lossD_fake\n",
        "        lossD.backward()\n",
        "        optimizerD.step()\n",
        "\n",
        "        # ---- Training Generator ----\n",
        "        optimizerG.zero_grad()\n",
        "        z = torch.randn(x_real.size(0), noise_dim, device=device)\n",
        "        x_gen = G(z)\n",
        "        lossG = criterion(D(x_gen), lab_real)  # Generator muốn đánh lừa D\n",
        "\n",
        "        lossG.backward()\n",
        "        optimizerG.step()\n",
        "\n",
        "        # Tính tổng loss trong epoch\n",
        "        lossD_epoch += lossD.item()\n",
        "        lossG_epoch += lossG.item()\n",
        "        num_batches += 1\n",
        "\n",
        "    # Lưu loss trung bình vào danh sách\n",
        "    lossD_list.append(lossD_epoch / num_batches)\n",
        "    lossG_list.append(lossG_epoch / num_batches)\n",
        "\n",
        "    print(f\"Epoch [{epoch+1}/{epochs}] - Loss D: {lossD_list[-1]:.4f}, Loss G: {lossG_list[-1]:.4f}\")\n",
        "\n",
        "# ---- Vẽ đồ thị ----\n",
        "plt.figure(figsize=(8, 5))\n",
        "plt.plot(range(1, epochs+1), lossD_list, label=\"Discriminator Loss\", color=\"red\")\n",
        "plt.plot(range(1, epochs+1), lossG_list, label=\"Generator Loss\", color=\"blue\")\n",
        "plt.xlabel(\"Epochs\")\n",
        "plt.ylabel(\"Loss\")\n",
        "plt.title(\"Training Loss of GAN\")\n",
        "plt.legend()\n",
        "plt.show()\n"
      ],
      "metadata": {
        "colab": {
          "base_uri": "https://localhost:8080/",
          "height": 1000
        },
        "id": "grO02dPnbjoL",
        "outputId": "04a042f0-e51f-4dae-e50f-b554a33e5e8b"
      },
      "execution_count": 62,
      "outputs": [
        {
          "output_type": "stream",
          "name": "stdout",
          "text": [
            "Epoch [1/50] - Loss D: 0.6258, Loss G: 1.0880\n",
            "Epoch [2/50] - Loss D: 0.8162, Loss G: 0.8870\n",
            "Epoch [3/50] - Loss D: 0.7715, Loss G: 1.1367\n",
            "Epoch [4/50] - Loss D: 0.9076, Loss G: 1.1635\n",
            "Epoch [5/50] - Loss D: 0.6617, Loss G: 1.4175\n",
            "Epoch [6/50] - Loss D: 1.1555, Loss G: 0.9519\n",
            "Epoch [7/50] - Loss D: 1.0158, Loss G: 1.1037\n",
            "Epoch [8/50] - Loss D: 1.0228, Loss G: 1.0853\n",
            "Epoch [9/50] - Loss D: 0.9585, Loss G: 1.1802\n",
            "Epoch [10/50] - Loss D: 1.0343, Loss G: 1.0802\n",
            "Epoch [11/50] - Loss D: 1.1292, Loss G: 0.9880\n",
            "Epoch [12/50] - Loss D: 1.2004, Loss G: 0.9373\n",
            "Epoch [13/50] - Loss D: 1.2116, Loss G: 0.9709\n",
            "Epoch [14/50] - Loss D: 1.1835, Loss G: 1.0442\n",
            "Epoch [15/50] - Loss D: 1.0052, Loss G: 1.1540\n",
            "Epoch [16/50] - Loss D: 1.0829, Loss G: 1.0324\n",
            "Epoch [17/50] - Loss D: 1.2994, Loss G: 0.8645\n",
            "Epoch [18/50] - Loss D: 1.2031, Loss G: 0.9578\n",
            "Epoch [19/50] - Loss D: 1.1928, Loss G: 0.9581\n",
            "Epoch [20/50] - Loss D: 1.1399, Loss G: 0.9923\n",
            "Epoch [21/50] - Loss D: 1.1594, Loss G: 0.9712\n",
            "Epoch [22/50] - Loss D: 1.2560, Loss G: 0.9389\n",
            "Epoch [23/50] - Loss D: 1.0638, Loss G: 1.1718\n",
            "Epoch [24/50] - Loss D: 0.9361, Loss G: 1.2945\n",
            "Epoch [25/50] - Loss D: 0.9618, Loss G: 1.2075\n",
            "Epoch [26/50] - Loss D: 0.9209, Loss G: 1.2368\n",
            "Epoch [27/50] - Loss D: 0.8020, Loss G: 1.3934\n",
            "Epoch [28/50] - Loss D: 0.6352, Loss G: 1.7355\n",
            "Epoch [29/50] - Loss D: 0.7383, Loss G: 1.5958\n",
            "Epoch [30/50] - Loss D: 0.9869, Loss G: 1.1944\n",
            "Epoch [31/50] - Loss D: 1.1820, Loss G: 1.0231\n",
            "Epoch [32/50] - Loss D: 1.0874, Loss G: 1.1109\n",
            "Epoch [33/50] - Loss D: 1.1471, Loss G: 1.0858\n",
            "Epoch [34/50] - Loss D: 1.0801, Loss G: 1.1169\n",
            "Epoch [35/50] - Loss D: 1.1981, Loss G: 0.9948\n",
            "Epoch [36/50] - Loss D: 1.2070, Loss G: 0.9851\n",
            "Epoch [37/50] - Loss D: 1.2928, Loss G: 0.9461\n",
            "Epoch [38/50] - Loss D: 1.2824, Loss G: 1.0333\n",
            "Epoch [39/50] - Loss D: 1.2016, Loss G: 1.1008\n",
            "Epoch [40/50] - Loss D: 1.2118, Loss G: 1.0481\n",
            "Epoch [41/50] - Loss D: 1.1256, Loss G: 1.0785\n",
            "Epoch [42/50] - Loss D: 1.1181, Loss G: 1.0844\n",
            "Epoch [43/50] - Loss D: 1.2670, Loss G: 0.9750\n",
            "Epoch [44/50] - Loss D: 1.0493, Loss G: 1.2116\n",
            "Epoch [45/50] - Loss D: 0.8873, Loss G: 1.3682\n",
            "Epoch [46/50] - Loss D: 0.8893, Loss G: 1.3359\n",
            "Epoch [47/50] - Loss D: 1.0103, Loss G: 1.2425\n",
            "Epoch [48/50] - Loss D: 1.0719, Loss G: 1.2465\n",
            "Epoch [49/50] - Loss D: 1.0875, Loss G: 1.2709\n",
            "Epoch [50/50] - Loss D: 1.0228, Loss G: 1.3434\n"
          ]
        },
        {
          "output_type": "display_data",
          "data": {
            "text/plain": [
              "<Figure size 800x500 with 1 Axes>"
            ],
            "image/png": "[encoded data removed]"
          },
          "metadata": {}
        }
      ]
    },
    {
      "cell_type": "markdown",
      "source": [
        "#10. Sinh ảnh và hiển thị\n"
      ],
      "metadata": {
        "id": "SKDrlZA68UTu"
      }
    },
    {
      "cell_type": "code",
      "source": [
        "from PIL import Image\n",
        "\n",
        "def show_generated_images(G, num_images=16, noise_dim=100, device=\"cpu\", save_path=None):\n",
        "    G.eval()  # Đặt Generator ở chế độ đánh giá\n",
        "    with torch.no_grad():\n",
        "        z = torch.randn(num_images, noise_dim, device=device)\n",
        "        fake_images = G(z).detach().cpu()\n",
        "\n",
        "    grid = make_grid(fake_images, normalize=True, nrow=4)\n",
        "    np_img = np.transpose(grid.numpy(), (1, 2, 0))  # Chuyển về định dạng ảnh\n",
        "\n",
        "    plt.figure(figsize=(6, 6))\n",
        "    plt.imshow(np_img)\n",
        "    plt.axis(\"off\")\n",
        "\n",
        "    if save_path:\n",
        "        image = Image.fromarray((np_img * 255).astype(np.uint8))  # Convert to image\n",
        "        image.save(save_path)\n",
        "        print(f\"Ảnh đã lưu tại: {save_path}\")\n",
        "\n",
        "    plt.show()\n",
        "    G.train()  # Đặt lại Generator về chế độ training\n",
        "\n",
        "# Gọi hàm và lưu ảnh vào Google Drive\n",
        "save_path = \"/content/drive/My Drive/lab2-adip/generated_image.png\"  # Thay đổi đường dẫn nếu cần\n",
        "show_generated_images(G, device=device, save_path=save_path)\n"
      ],
      "metadata": {
        "colab": {
          "base_uri": "https://localhost:8080/",
          "height": 517
        },
        "id": "rVB_IJgoiE4K",
        "outputId": "f4c150b4-ff5c-4401-c307-db5030ade668"
      },
      "execution_count": 64,
      "outputs": [
        {
          "output_type": "stream",
          "name": "stdout",
          "text": [
            "Ảnh đã lưu tại: /content/drive/My Drive/lab2-adip/generated_image.png\n"
          ]
        },
        {
          "output_type": "display_data",
          "data": {
            "text/plain": [
              "<Figure size 600x600 with 1 Axes>"
            ],
            "image/png": "[encoded data removed]"
          },
          "metadata": {}
        }
      ]
    }
  ]
}